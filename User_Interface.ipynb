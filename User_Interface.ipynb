{
  "cells": [
    {
      "cell_type": "markdown",
      "source": [
        "# Визначення функцій\n",
        "Натисніть, щоб розпочати"
      ],
      "metadata": {
        "id": "4h2Qa9FLJvER"
      }
    },
    {
      "cell_type": "code",
      "execution_count": null,
      "metadata": {
        "id": "cAJSXoLo3tQD"
      },
      "outputs": [],
      "source": [
        "!pip install ipynb\n",
        "import numpy as np\n",
        "import random\n",
        "\n",
        "from text_cleaning import normalize_sentence\n",
        "from custom_norm import PixelNormalization,MinibatchStdev"
      ]
    },
    {
      "cell_type": "code",
      "execution_count": null,
      "metadata": {
        "id": "7j6gpqs837Y3"
      },
      "outputs": [],
      "source": [
        "from google.colab import drive\n",
        "drive.mount(\"/content/gdrive\")"
      ]
    },
    {
      "cell_type": "code",
      "execution_count": null,
      "metadata": {
        "id": "7efVIpbpQXNt"
      },
      "outputs": [],
      "source": [
        "\n",
        "import pickle\n",
        "with open('/content/gdrive/MyDrive/Diploma/Models/tokenizer.pickle', 'rb') as handle:\n",
        "    tokenizer = pickle.load(handle)\n",
        "\n",
        "with open('/content/gdrive/MyDrive/Diploma/Models/le.pickle', 'rb') as handle:\n",
        "    le = pickle.load(handle)"
      ]
    },
    {
      "cell_type": "code",
      "execution_count": null,
      "metadata": {
        "id": "VYKRebz1Q1LI"
      },
      "outputs": [],
      "source": [
        "from keras.models import load_model\n",
        "model_classification = load_model('/content/gdrive/MyDrive/Diploma/Models/classification.h5', )\n",
        "\n",
        "from tensorflow.keras.preprocessing.sequence import pad_sequences\n",
        "def predict_emotion(sentence):\n",
        "  sentence = normalize_sentence(sentence)\n",
        "  sentence = tokenizer.texts_to_sequences([sentence])\n",
        "  sentence = pad_sequences(sentence, maxlen=229, truncating='pre')\n",
        "  result = le.inverse_transform(np.argmax(model_classification.predict(sentence), axis=-1))[0]\n",
        "  proba =  np.max(model_classification.predict(sentence))\n",
        "  return result,proba\n",
        "  print(f\"{result} : {proba}\\n\\n\")\n"
      ]
    },
    {
      "cell_type": "code",
      "source": [
        "import nltk\n",
        "nltk.download('stopwords')\n",
        "from nltk.corpus import stopwords\n",
        "from nltk.stem import WordNetLemmatizer\n",
        "from nltk.stem import SnowballStemmer, WordNetLemmatizer\n",
        "nltk.download('all')\n",
        "nltk.download('wordnet')\n",
        "from nltk.stem import WordNetLemmatizer"
      ],
      "metadata": {
        "id": "ck1yM3nidoQD"
      },
      "execution_count": null,
      "outputs": []
    },
    {
      "cell_type": "code",
      "execution_count": null,
      "metadata": {
        "id": "lNpHp1GbfEpp"
      },
      "outputs": [],
      "source": [
        "def genre_selection(emotion,proba):\n",
        "  match emotion:\n",
        "    case \"joy\":#country,reggie\n",
        "      if(proba>0.6):\n",
        "        genre=\"pop\"\n",
        "      else: genre=\"reggae\"\n",
        "    case \"sadness\":\n",
        "      if(proba>0.6):\n",
        "        genre=\"blues\"\n",
        "      else: genre=\"country\"\n",
        "    case \"anger\":#metal\n",
        "      if(proba>0.6):\n",
        "        genre=\"metal\"\n",
        "      else: genre=\"metal\"\n",
        "    case \"fear\":#classical\n",
        "      if(proba>0.6):\n",
        "        genre=\"classical\"\n",
        "      else: genre=\"classical\"\n",
        "    case \"love\":#jazz disco\n",
        "      if(proba>0.6):\n",
        "        genre=\"disco\"\n",
        "      else: genre=\"jazz\"\n",
        "    case \"surprise\":#rock,hiphop energy\n",
        "      if(proba>0.6):\n",
        "        genre=\"hiphop\"\n",
        "      else: genre=\"rock\"\n",
        "\n",
        "  return genre"
      ]
    },
    {
      "cell_type": "code",
      "execution_count": null,
      "metadata": {
        "id": "uPnBI16EfHtq"
      },
      "outputs": [],
      "source": [
        "from numpy.random import randn\n",
        "import imageio\n",
        "def generate_latent_points(latent_dim, n_samples):\n",
        "    x_input =  randn(latent_dim * n_samples)#\n",
        "    #x_input =  np.random.uniform(-1, 1, size=(latent_dim, n_samples))#до меж -1,1 uniform distribution\n",
        "    x_input = x_input.reshape(n_samples, latent_dim)\n",
        "    #x_input=tf.random.normal(shape=(n_samples,latent_dim))\n",
        "    return x_input\n",
        "\n",
        "\n",
        "def make_spectrogram(genre,model,latent_dim=100,n_samples=1):\n",
        "  x=generate_latent_points(latent_dim, n_samples)\n",
        "  spectrogram=model.predict(x)\n",
        "  spectrogram.resize(128,192)\n",
        "  #path=os.path.join('spectrogram_%s.png' % (genre))\n",
        "  path=\"result.png\"\n",
        "  imageio.imwrite(path, spectrogram)\n",
        "\n",
        "\n",
        "\n",
        "\n"
      ]
    },
    {
      "cell_type": "code",
      "execution_count": null,
      "metadata": {
        "id": "agIHpZY_x4bV"
      },
      "outputs": [],
      "source": [
        "import numpy as np\n",
        "import librosa\n",
        "import librosa.display\n",
        "from scipy.signal import istft\n",
        "import matplotlib.pyplot as plt\n",
        "import imageio\n",
        "import cv2\n",
        "from scipy.io.wavfile import write\n",
        "\n",
        "def spec_to_audio(spec):\n",
        "  im = cv2.imread(spec,0)\n",
        "  im = im.astype(np.uint8)\n",
        "  im = im / 255.0\n",
        "#im = librosa.amplitude_to_db(im, ref=0.002)\n",
        "  y2 = librosa.feature.inverse.mel_to_audio(im)\n",
        "  write(\"result.wav\", 5000, y2)\n"
      ]
    },
    {
      "cell_type": "code",
      "source": [
        "import os\n",
        "def load_GANmodel(genre):\n",
        "  path=os.path.join(\"/content/gdrive/MyDrive/Diploma/Models\",'%s.h5' % (genre))\n",
        "  cust = {'PixelNormalization': PixelNormalization, 'MinibatchStdev': MinibatchStdev}\n",
        "  model  = load_model(path,cust)\n",
        "\n",
        "  return model\n",
        "\n",
        "\n"
      ],
      "metadata": {
        "id": "WzT92nV2fMKe"
      },
      "execution_count": null,
      "outputs": []
    },
    {
      "cell_type": "markdown",
      "source": [
        "# Користувацький інтерфейс"
      ],
      "metadata": {
        "id": "tE7N187_J_TT"
      }
    },
    {
      "cell_type": "code",
      "source": [
        "#@title Введіть запит\n",
        "from ipywidgets import widgets\n",
        "\n",
        "\n",
        "output_text = widgets.Text()\n",
        "\n",
        "\n",
        "input_text = widgets.Text(value='Запит на англійській',\n",
        "    placeholder='Type something',\n",
        "    description='запит:',\n",
        "    disabled=False )\n",
        "\n",
        "\n",
        "def bind_input_to_output(sender):\n",
        "    output_text.value = input_text.value\n",
        "\n",
        "\n",
        "input_text.on_submit(bind_input_to_output)\n",
        "\n",
        "input_text"
      ],
      "metadata": {
        "colab": {
          "base_uri": "https://localhost:8080/",
          "height": 49,
          "referenced_widgets": [
            "29b00d0ed0644d94abb91e0984465e22",
            "169dd5f3f57f43d9ad6e8d9cdd884015",
            "fd5bdd8cb9d3448dab25bfeb31cd4542"
          ]
        },
        "cellView": "form",
        "id": "SWpeRck8bSWl",
        "outputId": "ae10f08d-ade8-4320-b71b-1472b94957ec"
      },
      "execution_count": null,
      "outputs": [
        {
          "output_type": "display_data",
          "data": {
            "text/plain": [
              "Text(value='Запит на англійській', description='запит:', placeholder='Type something')"
            ],
            "application/vnd.jupyter.widget-view+json": {
              "version_major": 2,
              "version_minor": 0,
              "model_id": "29b00d0ed0644d94abb91e0984465e22"
            }
          },
          "metadata": {}
        }
      ]
    },
    {
      "cell_type": "code",
      "source": [
        "#@title Класифікація запиту\n",
        "from IPython.display import display, Markdown, clear_output\n",
        "button = widgets.Button(description='Класифікувати')\n",
        "out = widgets.Output()\n",
        "def on_button_clicked(_):\n",
        "\n",
        "      with out:\n",
        "\n",
        "          clear_output()\n",
        "          r,g=predict_emotion(output_text.value)\n",
        "          print(\"Ваш запит:\",output_text.value)\n",
        "          print(\"клас емоції:\")\n",
        "          print(f\"{r} : {g}\\n\\n\")\n",
        "          genre=genre_selection(r,g)\n",
        "          model=load_GANmodel(genre)\n",
        "          make_spectrogram(genre,model,latent_dim=100,n_samples=1)\n",
        "          print(\"Жанр:\",genre)\n",
        "\n",
        "button.on_click(on_button_clicked)\n",
        "\n",
        "widgets.VBox([button,out])\n"
      ],
      "metadata": {
        "cellView": "form",
        "id": "JhklZMy9b9po"
      },
      "execution_count": null,
      "outputs": []
    },
    {
      "cell_type": "code",
      "source": [
        "#@title Згенерувати музику\n",
        "from IPython.display import display, Markdown, clear_output\n",
        "from matplotlib import pyplot as plt\n",
        "import tensorflow as tf\n",
        "button3 = widgets.Button(description='Згенерувати музику')\n",
        "out = widgets.Output()\n",
        "\n",
        "\n",
        "\n",
        "\n",
        "def on_button_clicked3(_):\n",
        "\n",
        "      with out:\n",
        "\n",
        "          clear_output()\n",
        "          img = tf.keras.preprocessing.image.load_img('result.png')\n",
        "          plt.imshow(img)\n",
        "          spec_to_audio(\"result.png\")\n",
        "          #Audio(\"result.wav\")\n",
        "\n",
        "button3.on_click(on_button_clicked3)\n",
        "\n",
        "widgets.VBox([button3,out])"
      ],
      "metadata": {
        "cellView": "form",
        "id": "usVRms3rlmam"
      },
      "execution_count": null,
      "outputs": []
    },
    {
      "cell_type": "code",
      "source": [
        "#@title Натисніть, щоб прослухати\n",
        "Audio(\"result.wav\")"
      ],
      "metadata": {
        "id": "4ER_nnQRpg2c",
        "cellView": "form"
      },
      "execution_count": null,
      "outputs": []
    }
  ],
  "metadata": {
    "colab": {
      "provenance": [],
      "collapsed_sections": [
        "4h2Qa9FLJvER"
      ]
    },
    "kernelspec": {
      "display_name": "Python 3",
      "name": "python3"
    },
    "language_info": {
      "name": "python"
    },
    "widgets": {
      "application/vnd.jupyter.widget-state+json": {
        "29b00d0ed0644d94abb91e0984465e22": {
          "model_module": "@jupyter-widgets/controls",
          "model_name": "TextModel",
          "model_module_version": "1.5.0",
          "state": {
            "_dom_classes": [],
            "_model_module": "@jupyter-widgets/controls",
            "_model_module_version": "1.5.0",
            "_model_name": "TextModel",
            "_view_count": null,
            "_view_module": "@jupyter-widgets/controls",
            "_view_module_version": "1.5.0",
            "_view_name": "TextView",
            "continuous_update": true,
            "description": "запит:",
            "description_tooltip": null,
            "disabled": false,
            "layout": "IPY_MODEL_169dd5f3f57f43d9ad6e8d9cdd884015",
            "placeholder": "Type something",
            "style": "IPY_MODEL_fd5bdd8cb9d3448dab25bfeb31cd4542",
            "value": "A site with children's toys is running a sale on Lego sets."
          }
        },
        "169dd5f3f57f43d9ad6e8d9cdd884015": {
          "model_module": "@jupyter-widgets/base",
          "model_name": "LayoutModel",
          "model_module_version": "1.2.0",
          "state": {
            "_model_module": "@jupyter-widgets/base",
            "_model_module_version": "1.2.0",
            "_model_name": "LayoutModel",
            "_view_count": null,
            "_view_module": "@jupyter-widgets/base",
            "_view_module_version": "1.2.0",
            "_view_name": "LayoutView",
            "align_content": null,
            "align_items": null,
            "align_self": null,
            "border": null,
            "bottom": null,
            "display": null,
            "flex": null,
            "flex_flow": null,
            "grid_area": null,
            "grid_auto_columns": null,
            "grid_auto_flow": null,
            "grid_auto_rows": null,
            "grid_column": null,
            "grid_gap": null,
            "grid_row": null,
            "grid_template_areas": null,
            "grid_template_columns": null,
            "grid_template_rows": null,
            "height": null,
            "justify_content": null,
            "justify_items": null,
            "left": null,
            "margin": null,
            "max_height": null,
            "max_width": null,
            "min_height": null,
            "min_width": null,
            "object_fit": null,
            "object_position": null,
            "order": null,
            "overflow": null,
            "overflow_x": null,
            "overflow_y": null,
            "padding": null,
            "right": null,
            "top": null,
            "visibility": null,
            "width": null
          }
        },
        "fd5bdd8cb9d3448dab25bfeb31cd4542": {
          "model_module": "@jupyter-widgets/controls",
          "model_name": "DescriptionStyleModel",
          "model_module_version": "1.5.0",
          "state": {
            "_model_module": "@jupyter-widgets/controls",
            "_model_module_version": "1.5.0",
            "_model_name": "DescriptionStyleModel",
            "_view_count": null,
            "_view_module": "@jupyter-widgets/base",
            "_view_module_version": "1.2.0",
            "_view_name": "StyleView",
            "description_width": ""
          }
        }
      }
    }
  },
  "nbformat": 4,
  "nbformat_minor": 0
}